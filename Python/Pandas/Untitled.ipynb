{
 "cells": [
  {
   "cell_type": "code",
   "execution_count": 1,
   "metadata": {},
   "outputs": [],
   "source": [
    "prisioneiros = [1,2,3,4,5,6]"
   ]
  },
  {
   "cell_type": "code",
   "execution_count": 25,
   "metadata": {},
   "outputs": [],
   "source": [
    "def remove(prisioneiros,i):\n",
    "    \n",
    "    print(prisioneiros)\n",
    "    \n",
    "    tamanho = len(prisioneiros)\n",
    "    \n",
    "    if  tamanho == 1:\n",
    "        return prisioneiros[0]\n",
    "    \n",
    "    if i + 1 == tamanho:\n",
    "        prisioneiros.remove(prisioneiros[0])\n",
    "        \n",
    "    else:\n",
    "        prisioneiros.remove(prisioneiros[i+1])\n",
    "    \n",
    "    if(tamanho >= i + 2): i = 0\n",
    "        \n",
    "    else: i += 2\n",
    "        \n",
    "    print(prisioneiros)\n",
    "    \n",
    "    remove(prisioneiros,i)\n",
    "    "
   ]
  },
  {
   "cell_type": "code",
   "execution_count": 26,
   "metadata": {},
   "outputs": [
    {
     "name": "stdout",
     "output_type": "stream",
     "text": [
      "[1]\n"
     ]
    },
    {
     "data": {
      "text/plain": [
       "1"
      ]
     },
     "execution_count": 26,
     "metadata": {},
     "output_type": "execute_result"
    }
   ],
   "source": [
    "remove(prisioneiros,0)"
   ]
  },
  {
   "cell_type": "code",
   "execution_count": null,
   "metadata": {},
   "outputs": [],
   "source": []
  }
 ],
 "metadata": {
  "kernelspec": {
   "display_name": "Python 3",
   "language": "python",
   "name": "python3"
  },
  "language_info": {
   "codemirror_mode": {
    "name": "ipython",
    "version": 3
   },
   "file_extension": ".py",
   "mimetype": "text/x-python",
   "name": "python",
   "nbconvert_exporter": "python",
   "pygments_lexer": "ipython3",
   "version": "3.7.4"
  }
 },
 "nbformat": 4,
 "nbformat_minor": 2
}
